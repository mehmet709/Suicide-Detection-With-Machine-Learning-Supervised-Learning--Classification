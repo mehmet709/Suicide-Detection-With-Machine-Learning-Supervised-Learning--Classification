{
 "cells": [
  {
   "metadata": {
    "jupyter": {
     "is_executing": true
    },
    "ExecuteTime": {
     "start_time": "2025-08-11T07:32:33.360476Z"
    }
   },
   "cell_type": "code",
   "source": [
    "\n",
    "import pandas as pd\n",
    "import re\n",
    "import nltk\n",
    "from nltk.corpus import stopwords\n",
    "from nltk.stem import WordNetLemmatizer\n",
    "from sklearn.model_selection import train_test_split\n",
    "from sklearn.feature_extraction.text import TfidfVectorizer\n",
    "from sklearn.metrics import classification_report, accuracy_score\n",
    "import xgboost as xgb\n",
    "\n",
    "# NLTK setup (necessary only for initial run )\n",
    "\n",
    "\n",
    "stop_words = set(stopwords.words('english'))\n",
    "lemmatizer = WordNetLemmatizer()\n",
    "\n",
    "# 1.\n",
    "df = pd.read_csv(\"data/Suicide_Detection.csv\")\n",
    "\n",
    "# 2. Label encoding\n",
    "df[\"class\"] = df[\"class\"].map({\"non-suicide\": 0, \"suicide\": 1})\n",
    "\n",
    "# 3. clean funciton\n",
    "def clean_text(text):\n",
    "    text = text.lower()\n",
    "    text = re.sub(r\"http\\S+|www.\\S+\", \"\", text)      # URL sil\n",
    "    text = re.sub(r\"[^a-z\\s]\", \" \", text)            # özel karakter/emoji sil\n",
    "    text = re.sub(r\"\\s+\", \" \", text).strip()\n",
    "    words = text.split()\n",
    "    words = [w for w in words if w not in stop_words]\n",
    "    words = [lemmatizer.lemmatize(w) for w in words]\n",
    "    return \" \".join(words)\n",
    "\n",
    "df[\"text\"] = df[\"text\"].apply(clean_text)\n",
    "\n",
    "# 4. Train/Test split\n",
    "X_train, X_test, y_train, y_test = train_test_split(\n",
    "    df[\"text\"], df[\"class\"], test_size=0.2, stratify=df[\"class\"], random_state=42\n",
    ")\n",
    "\n",
    "# 5. TF-IDF vectorization (n-gram ile)\n",
    "vectorizer = TfidfVectorizer(\n",
    "    max_features=24700,\n",
    "    ngram_range=(1,2),  # unigram + bigram\n",
    "    sublinear_tf=True\n",
    ")\n",
    "X_train_tfidf = vectorizer.fit_transform(X_train)\n",
    "X_test_tfidf = vectorizer.transform(X_test)\n",
    "\n",
    "# 6. XGBoost model\n",
    "\n",
    "\n",
    "model = xgb.XGBClassifier(\n",
    "\n",
    "    learning_rate=0.2,\n",
    "    n_estimators=400,\n",
    "    subsample=0.8,\n",
    "    colsample_bytree=0.8,\n",
    "    objective=\"binary:logistic\",\n",
    "    eval_metric=\"aucpr\",\n",
    "    use_label_encoder=False\n",
    ")\n",
    "\n",
    "# 7. Training\n",
    "model.fit(\n",
    "    X_train_tfidf, y_train,\n",
    "    eval_set=[(X_train_tfidf, y_train), (X_test_tfidf, y_test)],\n",
    "    verbose=True\n",
    ")\n",
    "\n",
    "# 8. Prediction\n",
    "y_pred = model.predict(X_test_tfidf)\n",
    "print(\"Accuracy:\", accuracy_score(y_test, y_pred))\n",
    "print(classification_report(y_test, y_pred))"
   ],
   "id": "fbc121e30a2defb3",
   "outputs": [],
   "execution_count": null
  }
 ],
 "metadata": {
  "kernelspec": {
   "display_name": "Python 3",
   "language": "python",
   "name": "python3"
  },
  "language_info": {
   "codemirror_mode": {
    "name": "ipython",
    "version": 2
   },
   "file_extension": ".py",
   "mimetype": "text/x-python",
   "name": "python",
   "nbconvert_exporter": "python",
   "pygments_lexer": "ipython2",
   "version": "2.7.6"
  }
 },
 "nbformat": 4,
 "nbformat_minor": 5
}
