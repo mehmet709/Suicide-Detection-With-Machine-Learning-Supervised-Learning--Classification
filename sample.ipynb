{
 "cells": [
  {
   "metadata": {
    "jupyter": {
     "is_executing": true
    },
    "ExecuteTime": {
     "start_time": "2025-08-11T07:23:37.648093Z"
    }
   },
   "cell_type": "code",
   "source": [
    "\n",
    "import pandas as pd\n",
    "import re\n",
    "import nltk\n",
    "from nltk.corpus import stopwords\n",
    "from nltk.stem import WordNetLemmatizer\n",
    "from sklearn.model_selection import train_test_split\n",
    "from sklearn.feature_extraction.text import TfidfVectorizer\n",
    "from sklearn.metrics import classification_report, accuracy_score\n",
    "import xgboost as xgb\n",
    "\n",
    "# NLTK setup (necessary only for initial run )\n",
    "\n",
    "\n",
    "stop_words = set(stopwords.words('english'))\n",
    "lemmatizer = WordNetLemmatizer()\n",
    "\n",
    "# 1.\n",
    "df = pd.read_csv(\"data/Suicide_Detection.csv\")\n",
    "\n",
    "# 2. Label encoding\n",
    "df[\"class\"] = df[\"class\"].map({\"non-suicide\": 0, \"suicide\": 1})\n",
    "\n",
    "# 3. clean funciton\n",
    "def clean_text(text):\n",
    "    text = text.lower()\n",
    "    text = re.sub(r\"http\\S+|www.\\S+\", \"\", text)      # URL sil\n",
    "    text = re.sub(r\"[^a-z\\s]\", \" \", text)            # özel karakter/emoji sil\n",
    "    text = re.sub(r\"\\s+\", \" \", text).strip()\n",
    "    words = text.split()\n",
    "    words = [w for w in words if w not in stop_words]\n",
    "    words = [lemmatizer.lemmatize(w) for w in words]\n",
    "    return \" \".join(words)\n",
    "\n",
    "df[\"text\"] = df[\"text\"].apply(clean_text)\n",
    "\n",
    "# 4. Train/Test split\n",
    "X_train, X_test, y_train, y_test = train_test_split(\n",
    "    df[\"text\"], df[\"class\"], test_size=0.2, stratify=df[\"class\"], random_state=42\n",
    ")\n",
    "\n",
    "# 5. TF-IDF vectorization (n-gram ile)\n",
    "vectorizer = TfidfVectorizer(\n",
    "    max_features=24700,\n",
    "    ngram_range=(1,2),  # unigram + bigram\n",
    "    sublinear_tf=True\n",
    ")\n",
    "X_train_tfidf = vectorizer.fit_transform(X_train)\n",
    "X_test_tfidf = vectorizer.transform(X_test)\n",
    "\n",
    "# 6. XGBoost model\n",
    "\n",
    "\n",
    "model = xgb.XGBClassifier(\n",
    "\n",
    "    learning_rate=0.15,\n",
    "    n_estimators=400,\n",
    "    subsample=0.8,\n",
    "    colsample_bytree=0.8,\n",
    "    objective=\"binary:logistic\",\n",
    "    eval_metric=\"aucpr\",\n",
    "    use_label_encoder=False\n",
    ")\n",
    "\n",
    "# 7. Training\n",
    "model.fit(\n",
    "    X_train_tfidf, y_train,\n",
    "    eval_set=[(X_train_tfidf, y_train), (X_test_tfidf, y_test)],\n",
    "    verbose=True\n",
    ")\n",
    "\n",
    "# 8. Prediction\n",
    "y_pred = model.predict(X_test_tfidf)\n",
    "print(\"Accuracy:\", accuracy_score(y_test, y_pred))\n",
    "print(classification_report(y_test, y_pred))"
   ],
   "id": "fbc121e30a2defb3",
   "outputs": [
    {
     "name": "stderr",
     "output_type": "stream",
     "text": [
      "C:\\Users\\mibra\\PycharmProjects\\JupyterProject\\.venv\\Lib\\site-packages\\xgboost\\training.py:183: UserWarning: [10:24:51] WARNING: C:\\actions-runner\\_work\\xgboost\\xgboost\\src\\learner.cc:738: \n",
      "Parameters: { \"use_label_encoder\" } are not used.\n",
      "\n",
      "  bst.update(dtrain, iteration=i, fobj=obj)\n"
     ]
    },
    {
     "name": "stdout",
     "output_type": "stream",
     "text": [
      "[0]\tvalidation_0-aucpr:0.89275\tvalidation_1-aucpr:0.89291\n",
      "[1]\tvalidation_0-aucpr:0.90553\tvalidation_1-aucpr:0.90513\n",
      "[2]\tvalidation_0-aucpr:0.91288\tvalidation_1-aucpr:0.91263\n",
      "[3]\tvalidation_0-aucpr:0.91366\tvalidation_1-aucpr:0.91378\n",
      "[4]\tvalidation_0-aucpr:0.91762\tvalidation_1-aucpr:0.91725\n",
      "[5]\tvalidation_0-aucpr:0.91856\tvalidation_1-aucpr:0.91824\n",
      "[6]\tvalidation_0-aucpr:0.92158\tvalidation_1-aucpr:0.92047\n",
      "[7]\tvalidation_0-aucpr:0.92401\tvalidation_1-aucpr:0.92278\n",
      "[8]\tvalidation_0-aucpr:0.92536\tvalidation_1-aucpr:0.92425\n",
      "[9]\tvalidation_0-aucpr:0.92811\tvalidation_1-aucpr:0.92717\n",
      "[10]\tvalidation_0-aucpr:0.93001\tvalidation_1-aucpr:0.92910\n",
      "[11]\tvalidation_0-aucpr:0.93144\tvalidation_1-aucpr:0.93019\n",
      "[12]\tvalidation_0-aucpr:0.93311\tvalidation_1-aucpr:0.93203\n",
      "[13]\tvalidation_0-aucpr:0.93469\tvalidation_1-aucpr:0.93387\n",
      "[14]\tvalidation_0-aucpr:0.93664\tvalidation_1-aucpr:0.93557\n",
      "[15]\tvalidation_0-aucpr:0.93809\tvalidation_1-aucpr:0.93690\n"
     ]
    }
   ],
   "execution_count": null
  }
 ],
 "metadata": {
  "kernelspec": {
   "display_name": "Python 3",
   "language": "python",
   "name": "python3"
  },
  "language_info": {
   "codemirror_mode": {
    "name": "ipython",
    "version": 2
   },
   "file_extension": ".py",
   "mimetype": "text/x-python",
   "name": "python",
   "nbconvert_exporter": "python",
   "pygments_lexer": "ipython2",
   "version": "2.7.6"
  }
 },
 "nbformat": 4,
 "nbformat_minor": 5
}
